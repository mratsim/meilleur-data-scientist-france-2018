{
 "cells": [
  {
   "cell_type": "markdown",
   "metadata": {},
   "source": [
    "# Tutoriel Python 3 - Azure ML Studio - MDSF 2018\n",
    "\n",
    "Azure ML Studio: https://studio.azureml.net\n",
    "\n",
    "Ce tutoriel a pour but de guider les personnes souhaitant utiliser Python 3 sur [Azure ML Studio](https://studio.azureml.net) pour participer au challenge.\n",
    "\n",
    "Il comporte 5 étapes :\n",
    "\n",
    "1. Import des données\n",
    "2. Analyse descriptive\n",
    "3. Préparation des données\n",
    "4. Création d’un modèle\n",
    "5. Calcul des prédictions et soumissions\n",
    "\n",
    "# Import des données\n",
    "\n",
    "Avant de rentrer dans le vif du sujet, installons les packages nécessaires pour ce tutoriel :"
   ]
  },
  {
   "cell_type": "code",
   "execution_count": null,
   "metadata": {},
   "outputs": [],
   "source": [
    "import pandas as pd\n",
    "import numpy as np\n",
    "import matplotlib.pyplot as plt\n",
    "from azureml import Workspace\n",
    "%matplotlib inline \n",
    "pd.set_option('display.max_columns', 500)"
   ]
  },
  {
   "cell_type": "code",
   "execution_count": null,
   "metadata": {},
   "outputs": [],
   "source": [
    "%%time\n",
    "ws = Workspace()\n",
    "X_train = pd.read_csv(ws.datasets[\"X_train.csv\"].open(), index_col=0, error_bad_lines=False)\n",
    "X_test = pd.read_csv(ws.datasets[\"X_test.csv\"].open(), index_col=0, error_bad_lines=False)\n",
    "y_train = pd.read_csv(ws.datasets[\"y_train.csv\"].open(), index_col=0)"
   ]
  },
  {
   "cell_type": "code",
   "execution_count": null,
   "metadata": {},
   "outputs": [],
   "source": [
    "print(\"Dimension X_train:\", X_train.shape)\n",
    "print(\"Dimension X_test:\", X_test.shape)"
   ]
  },
  {
   "cell_type": "code",
   "execution_count": null,
   "metadata": {},
   "outputs": [],
   "source": [
    "X_train.head(3)"
   ]
  },
  {
   "cell_type": "markdown",
   "metadata": {},
   "source": [
    "# Analyse descriptive\n",
    "\n",
    "## Structure des datasets\n",
    "\n",
    "Le dataset train comporte les caractéristiques et délai de vente de **8880 objets** vendus sur le site Emmaus. C’est ce dataset que nous allons utiliser pour créer un modèle. Chaque objet est décrit par une observation de X variables. Ces variables sont décrites dans le fichier ```description.pdf``` présent dans la clef USB.\n",
    "\n",
    "Le dataset test comporte les caractéristiques des **2960 objets** dont il faut prédire le délai de vente. A la différence du train, le délai de vente n’est bien sûr pas renseigné et une colonne ```id``` a ete rajoutée pour identifier les prédictions pendant l’étape de soumission."
   ]
  },
  {
   "cell_type": "code",
   "execution_count": null,
   "metadata": {
    "scrolled": true
   },
   "outputs": [],
   "source": [
    "X_train.describe(include='all').T"
   ]
  },
  {
   "cell_type": "code",
   "execution_count": null,
   "metadata": {},
   "outputs": [],
   "source": [
    "y_train.delai_vente.value_counts()"
   ]
  },
  {
   "cell_type": "markdown",
   "metadata": {},
   "source": [
    "Le jeu de données est très équilibré, chacune des 3 classes a une fréquence proche d’1/3."
   ]
  },
  {
   "cell_type": "markdown",
   "metadata": {},
   "source": [
    "# Création d'un modèle\n",
    "\n",
    "Il est maintenant temps de créer un modele. Dans ce tutoriel nous allons construire une [Forêt Aléatoire](https://fr.wikipedia.org/wiki/For%C3%AAt_d'arbres_d%C3%A9cisionnels)\n",
    "\n",
    "Pour ce faire nous utilisons les variables ```[\"poids\", \"prix\", \"nb_images\", \"longueur_image\", \"largeur_image\", \"categorie\"]```.\n",
    "\n",
    "Pour éviter le [surapprentissage](https://fr.wikipedia.org/wiki/Surapprentissage) et estimer les vraies performances de notre modèle nous allons utiliser le critère de [validation croisee](https://fr.wikipedia.org/wiki/Validation_crois%C3%A9e) méthode **k-fold** (cross-validation)."
   ]
  },
  {
   "cell_type": "code",
   "execution_count": null,
   "metadata": {},
   "outputs": [],
   "source": [
    "from sklearn.pipeline import Pipeline\n",
    "from sklearn.preprocessing import Imputer\n",
    "from sklearn.ensemble import RandomForestClassifier\n",
    "from sklearn.model_selection import cross_val_predict\n",
    "from sklearn.preprocessing import LabelEncoder"
   ]
  },
  {
   "cell_type": "markdown",
   "metadata": {},
   "source": [
    "### Imputation des valeurs manquantes par la valeur \"missing\""
   ]
  },
  {
   "cell_type": "code",
   "execution_count": null,
   "metadata": {},
   "outputs": [],
   "source": [
    "X_train.categorie.fillna('missing', inplace=True)\n",
    "X_test.categorie.fillna('missing', inplace=True)"
   ]
  },
  {
   "cell_type": "markdown",
   "metadata": {},
   "source": [
    "### Encodage des features catégorielles\n",
    "\n",
    "Les algorithmes de machine learning s'attendent à avoir en entrée des **nombres**, et non pas des chaînes de caractères. C'est pourquoi nous transformons les **features catégorielles** en nombres, à l'aide de ```LabelEncoder()```"
   ]
  },
  {
   "cell_type": "code",
   "execution_count": null,
   "metadata": {},
   "outputs": [],
   "source": [
    "X_train.categorie.unique()"
   ]
  },
  {
   "cell_type": "code",
   "execution_count": null,
   "metadata": {},
   "outputs": [],
   "source": [
    "le = LabelEncoder()\n",
    "X_train['categorie'] = le.fit_transform(X_train.categorie)\n",
    "X_test['categorie'] = le.transform(X_test.categorie)"
   ]
  },
  {
   "cell_type": "code",
   "execution_count": null,
   "metadata": {},
   "outputs": [],
   "source": [
    "features = [\"poids\", \"prix\", \"nb_images\",\n",
    "            \"longueur_image\", \"largeur_image\", \"categorie\"]\n",
    "\n",
    "ppl = Pipeline([(\"imputer\", Imputer(strategy='median')),\n",
    "                (\"clf\", RandomForestClassifier(n_estimators=10))])\n",
    "\n",
    "ppl.fit(X_train.loc[:, features], np.ravel(y_train))\n",
    "\n",
    "pred_train = ppl.predict_proba(X_train.loc[:, features])\n",
    "pred_cv = cross_val_predict(ppl, X_train.loc[:, features], np.ravel(y_train),\n",
    "                            method='predict_proba', cv=5, n_jobs=-1)"
   ]
  },
  {
   "cell_type": "markdown",
   "metadata": {},
   "source": [
    "# Calcul de l'erreur: logloss"
   ]
  },
  {
   "cell_type": "code",
   "execution_count": null,
   "metadata": {},
   "outputs": [],
   "source": [
    "from sklearn.metrics import log_loss "
   ]
  },
  {
   "cell_type": "code",
   "execution_count": null,
   "metadata": {},
   "outputs": [],
   "source": [
    "print(\"LogLoss sur echantillon train:\",log_loss(y_pred=pred_train, y_true=y_train))\n",
    "print(\"LogLoss sur echantillon train (CV):\",log_loss(y_pred=pred_cv, y_true=y_train))"
   ]
  },
  {
   "cell_type": "markdown",
   "metadata": {},
   "source": [
    "# Calcul des predictions"
   ]
  },
  {
   "cell_type": "code",
   "execution_count": null,
   "metadata": {},
   "outputs": [],
   "source": [
    "pred_test = ppl.predict_proba(X_test.loc[:, features])"
   ]
  },
  {
   "cell_type": "code",
   "execution_count": null,
   "metadata": {
    "scrolled": true
   },
   "outputs": [],
   "source": [
    "df_submission = pd.DataFrame(pred_test, index=X_test.index)"
   ]
  },
  {
   "cell_type": "markdown",
   "metadata": {},
   "source": [
    "# Soumission\n",
    "\n",
    "## Possibilité n°1 : via l'API de QScore\n",
    "\n",
    "1. Aller sur la plateforme [QScore](https://qscore.meilleurdatascientistdefrance.com) puis dans \"Submissions\" > \"Submit from your Python Notebook\"\n",
    "2. Récuperer votre TOKEN\n",
    "3. Le remplacer dans la fonction ci-dessous et l'exécuter"
   ]
  },
  {
   "cell_type": "code",
   "execution_count": null,
   "metadata": {},
   "outputs": [],
   "source": [
    "import io, math, requests\n",
    "\n",
    "# Ne fonctionne qu'en Python3, voir commentaire ci-dessous pour Python2\n",
    "def submit_prediction(df, sep=',', **kwargs):\n",
    "    # TOKEN a recuperer sur la plateforme: \"Submissions\" > \"Submit from your Python Notebook\"\n",
    "    TOKEN='<TON_TOKEN>'  \n",
    "    URL='https://qscore.meilleurdatascientistdefrance.com/api/submissions'\n",
    "    #buffer = io.BytesIO() # Python 2\n",
    "    buffer = io.StringIO() # Python 3\n",
    "    df.to_csv(buffer, sep=sep, **kwargs)\n",
    "    buffer.seek(0)\n",
    "    r = requests.post(URL, headers={'Authorization': 'Bearer {}'.format(TOKEN)},files={'datafile': buffer})\n",
    "    if r.status_code == 429:\n",
    "        raise Exception('Submissions are too close. Next submission is only allowed in {} seconds.'.format(int(math.ceil(int(r.headers['x-rate-limit-remaining']) / 1000.0))))\n",
    "    if r.status_code != 200:\n",
    "        raise Exception(r.text)"
   ]
  },
  {
   "cell_type": "code",
   "execution_count": null,
   "metadata": {},
   "outputs": [],
   "source": [
    "submit_prediction(df_submission, sep=',', index=True)"
   ]
  },
  {
   "cell_type": "markdown",
   "metadata": {},
   "source": [
    "## Possibilité n°2 : Soumettez un fichier CSV\n",
    "\n",
    "1. Aller sur la plateforme [QScore](https://qscore.meilleurdatascientistdefrance.com) puis dans \"Submissions\" > \"Submit with a file\"\n",
    "2. Déposer le fichier CSV"
   ]
  },
  {
   "cell_type": "code",
   "execution_count": null,
   "metadata": {},
   "outputs": [],
   "source": [
    "df_submission.to_csv(\"my_prediction.csv\", index_label=\"id\", header=['0', '1', '2'])"
   ]
  }
 ],
 "metadata": {
  "kernelspec": {
   "display_name": "Python 3",
   "language": "python",
   "name": "python3"
  },
  "language_info": {
   "codemirror_mode": {
    "name": "ipython",
    "version": 3
   },
   "file_extension": ".py",
   "mimetype": "text/x-python",
   "name": "python",
   "nbconvert_exporter": "python",
   "pygments_lexer": "ipython3",
   "version": "3.6.4"
  },
  "widgets": {
   "state": {},
   "version": "1.1.1"
  }
 },
 "nbformat": 4,
 "nbformat_minor": 2
}
